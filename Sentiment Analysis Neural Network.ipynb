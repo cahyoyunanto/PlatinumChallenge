{
 "cells": [
  {
   "cell_type": "code",
   "execution_count": 1,
   "metadata": {},
   "outputs": [
    {
     "name": "stderr",
     "output_type": "stream",
     "text": [
      "[nltk_data] Downloading package punkt to\n",
      "[nltk_data]     C:\\Users\\User\\AppData\\Roaming\\nltk_data...\n",
      "[nltk_data]   Package punkt is already up-to-date!\n",
      "[nltk_data] Downloading package stopwords to\n",
      "[nltk_data]     C:\\Users\\User\\AppData\\Roaming\\nltk_data...\n",
      "[nltk_data]   Package stopwords is already up-to-date!\n"
     ]
    }
   ],
   "source": [
    "import pandas as pd\n",
    "import numpy as np\n",
    "import re\n",
    "import matplotlib.pyplot as plt\n",
    "import joblib\n",
    "from nltk import word_tokenize\n",
    "import nltk\n",
    "nltk.download('punkt')\n",
    "from Sastrawi.Stemmer.StemmerFactory import StemmerFactory\n",
    "nltk.download('stopwords')\n",
    "from nltk.corpus import stopwords as stopwords_scratch\n",
    "\n",
    "import seaborn as sns\n",
    "import matplotlib.pyplot as plt\n",
    "from sklearn.metrics import roc_auc_score\n",
    "from sklearn.metrics import roc_curve,auc\n",
    "from sklearn.metrics import confusion_matrix, classification_report, accuracy_score\n",
    "\n",
    "from sklearn.metrics import accuracy_score, classification_report\n",
    "from sklearn.model_selection import KFold\n",
    "\n",
    "from sklearn.feature_extraction.text import CountVectorizer, TfidfVectorizer\n",
    "from sklearn.naive_bayes import MultinomialNB\n",
    "from sklearn.linear_model import LogisticRegression\n",
    "from sklearn.svm import SVC\n",
    "from sklearn.neural_network import MLPClassifier\n",
    "from sklearn.metrics import f1_score, accuracy_score, classification_report\n",
    "from sklearn.model_selection import GridSearchCV\n",
    "from sklearn.model_selection import PredefinedSplit\n",
    "from sklearn.model_selection import train_test_split"
   ]
  },
  {
   "cell_type": "code",
   "execution_count": 2,
   "metadata": {},
   "outputs": [],
   "source": [
    "#read data csv\n",
    "df = pd.read_csv('data/train_preprocess.tsv', sep='\\t', names=['Text', 'Sentiment'])\n",
    "df = df.drop_duplicates()\n",
    "\n",
    "#kamus alay\n",
    "df_alay = pd.read_csv('data/new_kamusalay.csv', names=['alay', 'cleaned'], encoding='latin-1')"
   ]
  },
  {
   "cell_type": "code",
   "execution_count": 3,
   "metadata": {},
   "outputs": [
    {
     "data": {
      "text/html": [
       "<div>\n",
       "<style scoped>\n",
       "    .dataframe tbody tr th:only-of-type {\n",
       "        vertical-align: middle;\n",
       "    }\n",
       "\n",
       "    .dataframe tbody tr th {\n",
       "        vertical-align: top;\n",
       "    }\n",
       "\n",
       "    .dataframe thead th {\n",
       "        text-align: right;\n",
       "    }\n",
       "</style>\n",
       "<table border=\"1\" class=\"dataframe\">\n",
       "  <thead>\n",
       "    <tr style=\"text-align: right;\">\n",
       "      <th></th>\n",
       "      <th>Text</th>\n",
       "      <th>Sentiment</th>\n",
       "    </tr>\n",
       "  </thead>\n",
       "  <tbody>\n",
       "    <tr>\n",
       "      <th>0</th>\n",
       "      <td>False</td>\n",
       "      <td>False</td>\n",
       "    </tr>\n",
       "    <tr>\n",
       "      <th>1</th>\n",
       "      <td>False</td>\n",
       "      <td>False</td>\n",
       "    </tr>\n",
       "    <tr>\n",
       "      <th>2</th>\n",
       "      <td>False</td>\n",
       "      <td>False</td>\n",
       "    </tr>\n",
       "    <tr>\n",
       "      <th>3</th>\n",
       "      <td>False</td>\n",
       "      <td>False</td>\n",
       "    </tr>\n",
       "    <tr>\n",
       "      <th>4</th>\n",
       "      <td>False</td>\n",
       "      <td>False</td>\n",
       "    </tr>\n",
       "    <tr>\n",
       "      <th>...</th>\n",
       "      <td>...</td>\n",
       "      <td>...</td>\n",
       "    </tr>\n",
       "    <tr>\n",
       "      <th>10993</th>\n",
       "      <td>False</td>\n",
       "      <td>False</td>\n",
       "    </tr>\n",
       "    <tr>\n",
       "      <th>10994</th>\n",
       "      <td>False</td>\n",
       "      <td>False</td>\n",
       "    </tr>\n",
       "    <tr>\n",
       "      <th>10996</th>\n",
       "      <td>False</td>\n",
       "      <td>False</td>\n",
       "    </tr>\n",
       "    <tr>\n",
       "      <th>10998</th>\n",
       "      <td>False</td>\n",
       "      <td>False</td>\n",
       "    </tr>\n",
       "    <tr>\n",
       "      <th>10999</th>\n",
       "      <td>False</td>\n",
       "      <td>False</td>\n",
       "    </tr>\n",
       "  </tbody>\n",
       "</table>\n",
       "<p>10933 rows × 2 columns</p>\n",
       "</div>"
      ],
      "text/plain": [
       "        Text  Sentiment\n",
       "0      False      False\n",
       "1      False      False\n",
       "2      False      False\n",
       "3      False      False\n",
       "4      False      False\n",
       "...      ...        ...\n",
       "10993  False      False\n",
       "10994  False      False\n",
       "10996  False      False\n",
       "10998  False      False\n",
       "10999  False      False\n",
       "\n",
       "[10933 rows x 2 columns]"
      ]
     },
     "execution_count": 3,
     "metadata": {},
     "output_type": "execute_result"
    }
   ],
   "source": [
    "df.isna()"
   ]
  },
  {
   "cell_type": "code",
   "execution_count": 4,
   "metadata": {},
   "outputs": [
    {
     "data": {
      "image/png": "[encoded data removed]",
      "text/plain": [
       "<Figure size 700x400 with 1 Axes>"
      ]
     },
     "metadata": {},
     "output_type": "display_data"
    }
   ],
   "source": [
    "df['Sentiment'].value_counts().plot.bar(figsize = (7, 4))\n",
    "plt.title(\"Persebaran Sentiment dalam Data Teks\")\n",
    "plt.xlabel('Sentiment')\n",
    "plt.ylabel('Jumlah Kata')\n",
    "plt.legend()\n",
    "plt.show()"
   ]
  },
  {
   "cell_type": "code",
   "execution_count": 5,
   "metadata": {},
   "outputs": [
    {
     "data": {
      "text/html": [
       "<div>\n",
       "<style scoped>\n",
       "    .dataframe tbody tr th:only-of-type {\n",
       "        vertical-align: middle;\n",
       "    }\n",
       "\n",
       "    .dataframe tbody tr th {\n",
       "        vertical-align: top;\n",
       "    }\n",
       "\n",
       "    .dataframe thead th {\n",
       "        text-align: right;\n",
       "    }\n",
       "</style>\n",
       "<table border=\"1\" class=\"dataframe\">\n",
       "  <thead>\n",
       "    <tr style=\"text-align: right;\">\n",
       "      <th></th>\n",
       "      <th>Text</th>\n",
       "      <th>Sentiment</th>\n",
       "      <th>label_val</th>\n",
       "      <th>panjang_text</th>\n",
       "    </tr>\n",
       "  </thead>\n",
       "  <tbody>\n",
       "    <tr>\n",
       "      <th>0</th>\n",
       "      <td>warung ini dimiliki oleh pengusaha pabrik tahu...</td>\n",
       "      <td>positive</td>\n",
       "      <td>2</td>\n",
       "      <td>404</td>\n",
       "    </tr>\n",
       "    <tr>\n",
       "      <th>1</th>\n",
       "      <td>mohon ulama lurus dan k212 mmbri hujjah partai...</td>\n",
       "      <td>neutral</td>\n",
       "      <td>1</td>\n",
       "      <td>102</td>\n",
       "    </tr>\n",
       "    <tr>\n",
       "      <th>2</th>\n",
       "      <td>lokasi strategis di jalan sumatera bandung . t...</td>\n",
       "      <td>positive</td>\n",
       "      <td>2</td>\n",
       "      <td>184</td>\n",
       "    </tr>\n",
       "    <tr>\n",
       "      <th>3</th>\n",
       "      <td>betapa bahagia nya diri ini saat unboxing pake...</td>\n",
       "      <td>positive</td>\n",
       "      <td>2</td>\n",
       "      <td>93</td>\n",
       "    </tr>\n",
       "    <tr>\n",
       "      <th>4</th>\n",
       "      <td>duh . jadi mahasiswa jangan sombong dong . kas...</td>\n",
       "      <td>negative</td>\n",
       "      <td>0</td>\n",
       "      <td>214</td>\n",
       "    </tr>\n",
       "  </tbody>\n",
       "</table>\n",
       "</div>"
      ],
      "text/plain": [
       "                                                Text Sentiment  label_val  \\\n",
       "0  warung ini dimiliki oleh pengusaha pabrik tahu...  positive          2   \n",
       "1  mohon ulama lurus dan k212 mmbri hujjah partai...   neutral          1   \n",
       "2  lokasi strategis di jalan sumatera bandung . t...  positive          2   \n",
       "3  betapa bahagia nya diri ini saat unboxing pake...  positive          2   \n",
       "4  duh . jadi mahasiswa jangan sombong dong . kas...  negative          0   \n",
       "\n",
       "   panjang_text  \n",
       "0           404  \n",
       "1           102  \n",
       "2           184  \n",
       "3            93  \n",
       "4           214  "
      ]
     },
     "execution_count": 5,
     "metadata": {},
     "output_type": "execute_result"
    }
   ],
   "source": [
    "mapping = {\n",
    "    'positive': 2,\n",
    "    'neutral': 1,\n",
    "    'negative': 0\n",
    "}\n",
    "\n",
    "df['label_val'] = df['Sentiment'].replace(mapping)\n",
    "df['panjang_text'] = df['Text'].str.len()\n",
    "df.head()"
   ]
  },
  {
   "cell_type": "code",
   "execution_count": 6,
   "metadata": {},
   "outputs": [
    {
     "data": {
      "image/png": "[encoded data removed]",
      "text/plain": [
       "<Figure size 640x480 with 1 Axes>"
      ]
     },
     "metadata": {},
     "output_type": "display_data"
    }
   ],
   "source": [
    "#visualisasi dengan whisker plot\n",
    "import seaborn as sns\n",
    "sns.set_style('whitegrid')\n",
    "sns.boxplot(y = df['panjang_text'], x = df['Sentiment'])\n",
    "plt.ylabel('Panjang Kata')\n",
    "plt.xlabel('Persebaran Data Sentiment')\n",
    "plt.show()"
   ]
  },
  {
   "cell_type": "code",
   "execution_count": 7,
   "metadata": {},
   "outputs": [
    {
     "name": "stdout",
     "output_type": "stream",
     "text": [
      "count    10933.000000\n",
      "mean         1.271746\n",
      "std          0.906720\n",
      "min          0.000000\n",
      "25%          0.000000\n",
      "50%          2.000000\n",
      "75%          2.000000\n",
      "max          2.000000\n",
      "Name: label_val, dtype: float64\n"
     ]
    }
   ],
   "source": [
    "print(df['label_val'].describe(include=['all']))"
   ]
  },
  {
   "cell_type": "code",
   "execution_count": 8,
   "metadata": {},
   "outputs": [
    {
     "name": "stdout",
     "output_type": "stream",
     "text": [
      "Data Distribution\n",
      "Mean:  1.2717460898198116\n",
      "Variance:  0.8221407214732708\n",
      "Standar Deviation:  0.9067197590619004\n"
     ]
    }
   ],
   "source": [
    "print('Data Distribution')\n",
    "print('Mean: ', df['label_val'].mean())\n",
    "print('Variance: ', df['label_val'].var())\n",
    "print('Standar Deviation: ',df['label_val'].std())"
   ]
  },
  {
   "cell_type": "code",
   "execution_count": 9,
   "metadata": {},
   "outputs": [
    {
     "data": {
      "text/html": [
       "<div>\n",
       "<style scoped>\n",
       "    .dataframe tbody tr th:only-of-type {\n",
       "        vertical-align: middle;\n",
       "    }\n",
       "\n",
       "    .dataframe tbody tr th {\n",
       "        vertical-align: top;\n",
       "    }\n",
       "\n",
       "    .dataframe thead th {\n",
       "        text-align: right;\n",
       "    }\n",
       "</style>\n",
       "<table border=\"1\" class=\"dataframe\">\n",
       "  <thead>\n",
       "    <tr style=\"text-align: right;\">\n",
       "      <th></th>\n",
       "      <th>alay</th>\n",
       "      <th>cleaned</th>\n",
       "    </tr>\n",
       "  </thead>\n",
       "  <tbody>\n",
       "    <tr>\n",
       "      <th>0</th>\n",
       "      <td>anakjakartaasikasik</td>\n",
       "      <td>anak jakarta asyik asyik</td>\n",
       "    </tr>\n",
       "    <tr>\n",
       "      <th>1</th>\n",
       "      <td>pakcikdahtua</td>\n",
       "      <td>pak cik sudah tua</td>\n",
       "    </tr>\n",
       "    <tr>\n",
       "      <th>2</th>\n",
       "      <td>pakcikmudalagi</td>\n",
       "      <td>pak cik muda lagi</td>\n",
       "    </tr>\n",
       "    <tr>\n",
       "      <th>3</th>\n",
       "      <td>t3tapjokowi</td>\n",
       "      <td>tetap jokowi</td>\n",
       "    </tr>\n",
       "    <tr>\n",
       "      <th>4</th>\n",
       "      <td>3x</td>\n",
       "      <td>tiga kali</td>\n",
       "    </tr>\n",
       "  </tbody>\n",
       "</table>\n",
       "</div>"
      ],
      "text/plain": [
       "                  alay                   cleaned\n",
       "0  anakjakartaasikasik  anak jakarta asyik asyik\n",
       "1         pakcikdahtua         pak cik sudah tua\n",
       "2       pakcikmudalagi         pak cik muda lagi\n",
       "3          t3tapjokowi              tetap jokowi\n",
       "4                   3x                 tiga kali"
      ]
     },
     "execution_count": 9,
     "metadata": {},
     "output_type": "execute_result"
    }
   ],
   "source": [
    "df_alay.head()"
   ]
  },
  {
   "cell_type": "code",
   "execution_count": 10,
   "metadata": {},
   "outputs": [],
   "source": [
    "#Create Stopwords\n",
    "list_stopwords = stopwords_scratch.words('indonesian')\n",
    "list_stopwords_en = stopwords_scratch.words('english')\n",
    "list_stopwords.extend(list_stopwords_en)\n",
    "list_stopwords.extend(['ya', 'yg', 'ga', 'yuk', 'dah', 'baiknya', 'berkali', 'kali', 'kurangnya', 'mata', 'olah', 'sekurang', 'setidak', 'tama', 'tidaknya'])\n",
    "\n",
    "#External stopwords\n",
    "f = open('stopwords/tala-stopwords-indonesia.txt', 'r')\n",
    "stopword_external = []\n",
    "for line in f:\n",
    "    stripped_line = line.strip()\n",
    "    line_list = stripped_line.split()\n",
    "    stopword_external.append(line_list[0])\n",
    "f.close()\n",
    "list_stopwords.extend(stopword_external)\n",
    "\n",
    "stopwords = list_stopwords"
   ]
  },
  {
   "cell_type": "code",
   "execution_count": 11,
   "metadata": {},
   "outputs": [],
   "source": [
    "#Creating Function for Cleansing Process\n",
    "def lowercase(text):\n",
    "    return text.lower()\n",
    "\n",
    "def special(text):\n",
    "    text = re.sub(r'\\W', ' ', str(text), flags=re.MULTILINE)\n",
    "    return text\n",
    "\n",
    "def single(text):\n",
    "    text = re.sub(r'\\s+[a-zA-Z]\\s+', ' ', text, flags=re.MULTILINE)\n",
    "    return text\n",
    "\n",
    "def singlestart(text):\n",
    "    text = re.sub(r'\\^[a-zA-Z]\\s+', ' ', text, flags=re.MULTILINE)\n",
    "    return text\n",
    "\n",
    "def mulspace(text):\n",
    "    text = re.sub(r'\\s+', ' ', text, flags=re.MULTILINE)\n",
    "    return text\n",
    "\n",
    "#Removing RT\n",
    "def rt(text):\n",
    "    text = re.sub(r'rt @\\w+: ', ' ', text, flags=re.MULTILINE)\n",
    "    return text\n",
    "\n",
    "#Removing prefixed 'b'\n",
    "def prefixedb(text):\n",
    "    text = re.sub(r'^b\\s+', '', text, flags=re.MULTILINE)\n",
    "    return text\n",
    "\n",
    "def misc(text):\n",
    "    text = re.sub(r'((www\\.[^\\s]+)|(https?://[^\\s]+)|(http?://[^\\s]+))|([#@]\\S+)|user|\\n|\\t', ' ', text, flags=re.MULTILINE)\n",
    "    return text\n",
    "\n",
    "#Mapping for kamusalay\n",
    "alay_mapping = dict(zip(df_alay['alay'], df_alay['cleaned']))\n",
    "def alay(text):\n",
    "    wordlist = text.split()\n",
    "    text_alay = [alay_mapping.get(x,x) for x in wordlist]\n",
    "    clean_alay = ' '.join(text_alay)\n",
    "    return clean_alay\n",
    "\n",
    "# Stopwords fuction\n",
    "def stopwrds(text): \n",
    "    text_tokens = word_tokenize(text)\n",
    "    tokens_without_sw = [word for word in text_tokens if not word in stopwords]\n",
    "    output_sw = ' '.join(tokens_without_sw)\n",
    "    return output_sw\n",
    "\n",
    "#Function for text cleansing\n",
    "def cleansing(text):\n",
    "    text = lowercase(text)\n",
    "    text = special(text)\n",
    "    text = singlestart(text)\n",
    "    text = mulspace(text)\n",
    "    text = rt(text)\n",
    "    text = prefixedb(text)\n",
    "    text = misc(text)\n",
    "    text = alay(text)\n",
    "    text = stopwrds(text)\n",
    "    return text"
   ]
  },
  {
   "cell_type": "code",
   "execution_count": 12,
   "metadata": {},
   "outputs": [],
   "source": [
    "def stemming(text):\n",
    "    word_token = word_tokenize(text)\n",
    "    factory = StemmerFactory()\n",
    "    stemmer = factory.create_stemmer()\n",
    "    input_stemm = str(word_token)\n",
    "    output_stemm = stemmer.stem(input_stemm)\n",
    "    stemmed_text = ' '.join(output_stemm)\n",
    "    return stemmed_text"
   ]
  },
  {
   "cell_type": "code",
   "execution_count": 13,
   "metadata": {},
   "outputs": [],
   "source": [
    "text = df.iloc[:,0].values\n",
    "data = []\n",
    "for sentence in range(0, len(text)):\n",
    "    text_clean = cleansing(str(text[sentence]))\n",
    "    data.append(text_clean)\n",
    "\n",
    "df.Text = data\n",
    "labels = df.iloc[:,1]\n",
    "df.to_csv('data/train_preprocess_clean.csv')"
   ]
  },
  {
   "cell_type": "code",
   "execution_count": 14,
   "metadata": {},
   "outputs": [
    {
     "data": {
      "text/html": [
       "<div>\n",
       "<style scoped>\n",
       "    .dataframe tbody tr th:only-of-type {\n",
       "        vertical-align: middle;\n",
       "    }\n",
       "\n",
       "    .dataframe tbody tr th {\n",
       "        vertical-align: top;\n",
       "    }\n",
       "\n",
       "    .dataframe thead th {\n",
       "        text-align: right;\n",
       "    }\n",
       "</style>\n",
       "<table border=\"1\" class=\"dataframe\">\n",
       "  <thead>\n",
       "    <tr style=\"text-align: right;\">\n",
       "      <th></th>\n",
       "      <th>Text</th>\n",
       "      <th>Sentiment</th>\n",
       "      <th>label_val</th>\n",
       "      <th>panjang_text</th>\n",
       "    </tr>\n",
       "  </thead>\n",
       "  <tbody>\n",
       "    <tr>\n",
       "      <th>0</th>\n",
       "      <td>warung dimiliki pengusaha pabrik puluhan terke...</td>\n",
       "      <td>positive</td>\n",
       "      <td>2</td>\n",
       "      <td>404</td>\n",
       "    </tr>\n",
       "    <tr>\n",
       "      <th>1</th>\n",
       "      <td>mohon ulama lurus k212 mmbri hujjah partai diw...</td>\n",
       "      <td>neutral</td>\n",
       "      <td>1</td>\n",
       "      <td>102</td>\n",
       "    </tr>\n",
       "    <tr>\n",
       "      <th>2</th>\n",
       "      <td>lokasi strategis jalan sumatra bandung nya nya...</td>\n",
       "      <td>positive</td>\n",
       "      <td>2</td>\n",
       "      <td>184</td>\n",
       "    </tr>\n",
       "    <tr>\n",
       "      <th>3</th>\n",
       "      <td>betapa bahagia nya unboxing paket barang nya b...</td>\n",
       "      <td>positive</td>\n",
       "      <td>2</td>\n",
       "      <td>93</td>\n",
       "    </tr>\n",
       "    <tr>\n",
       "      <th>4</th>\n",
       "      <td>aduh mahasiswa sombong kasih kartu kuning bela...</td>\n",
       "      <td>negative</td>\n",
       "      <td>0</td>\n",
       "      <td>214</td>\n",
       "    </tr>\n",
       "  </tbody>\n",
       "</table>\n",
       "</div>"
      ],
      "text/plain": [
       "                                                Text Sentiment  label_val  \\\n",
       "0  warung dimiliki pengusaha pabrik puluhan terke...  positive          2   \n",
       "1  mohon ulama lurus k212 mmbri hujjah partai diw...   neutral          1   \n",
       "2  lokasi strategis jalan sumatra bandung nya nya...  positive          2   \n",
       "3  betapa bahagia nya unboxing paket barang nya b...  positive          2   \n",
       "4  aduh mahasiswa sombong kasih kartu kuning bela...  negative          0   \n",
       "\n",
       "   panjang_text  \n",
       "0           404  \n",
       "1           102  \n",
       "2           184  \n",
       "3            93  \n",
       "4           214  "
      ]
     },
     "execution_count": 14,
     "metadata": {},
     "output_type": "execute_result"
    }
   ],
   "source": [
    "df.head()"
   ]
  },
  {
   "cell_type": "code",
   "execution_count": 15,
   "metadata": {},
   "outputs": [],
   "source": [
    "def hyperparam_tuning(x_train, xtest, ytrain, ytest, classifier, param_grid):\n",
    "    y_train_split, y_test_split = train_test_split(y_train, test_size=0.6, random_state=0)\n",
    "    #create predefined split\n",
    "    ps = PredefinedSplit([-1] * ytrain_split.shape[0] + [0] * ytest_split.shape[0])\n",
    "    clf = GridSearchCV(classifier, param_grid, n_jobs=-1, cv=ps)\n",
    "    clf = clf.fit(xtrain, ytrain)\n",
    "    return clf\n",
    "\n",
    "def train_and_test(feature='bow', classifier='nb'):\n",
    "    xtrain, xtest, ytrain, ytest = train_test_split(data, labels, test_size=0.2, random_state=0)\n",
    "    #train feature on train data\n",
    "    if feature == 'bow':\n",
    "        vectorizer = CountVectorizer()\n",
    "    elif feature == 'tfidf':\n",
    "        vectorizer = TfidfVectorizer()\n",
    "    else:\n",
    "        raise Exception('Vectorizer unkown. Use \"BoW\" or \"tfidf\"')\n",
    "    vectorizer.fit(xtrain)\n",
    "    \n",
    "    #transform\n",
    "    xtrain = vectorizer.transform(xtrain)\n",
    "    xtest = vectorizer.transform(xtest)\n",
    "    \n",
    "    #all classifiers\n",
    "    classifier_model = {'nb' : MultinomialNB(),\n",
    "                        'svm': SVC(),\n",
    "                        'lr' : LogisticRegression(max_iter=1000),\n",
    "                        'mlp': MLPClassifier()\n",
    "                       }\n",
    "    #all params for grid-search\n",
    "    param_grids = {'nb' : {'alpha': np.linspace(0.001,1,50)},\n",
    "                   'svm': {'C': [0.01, 0.1, 1, 10, 100], 'kernel': ['rbf', 'linear']},\n",
    "                   'lr' : {'C': np.linspace(0.001,10,100)},\n",
    "                   'mlp': {'activation':['relu']}\n",
    "                  }\n",
    "    \n",
    "    #hyperparam_tuning used for model besides MLP, since MLP works better without hyperparameter\n",
    "    model = MLPClassifier()\n",
    "    clf = model.fit(xtrain, ytrain)\n",
    "    pred = clf.predict(xtest.toarray())\n",
    "    f1 = f1_score(ytest,pred, average='micro')\n",
    "    \n",
    "    return f1, clf, vectorizer, pred, xtrain, xtest, ytrain, ytest"
   ]
  },
  {
   "cell_type": "code",
   "execution_count": 16,
   "metadata": {},
   "outputs": [
    {
     "name": "stdout",
     "output_type": "stream",
     "text": [
      "Training for sentiment analysis classifier\n",
      "Training done. F1 on test set is 0.8065843621399177\n",
      "\n",
      "Sentiment on the input text is ['negative']\n"
     ]
    }
   ],
   "source": [
    "input_sentiment = \"woi jelek banget lu\"\n",
    "print(f\"Training for sentiment analysis classifier\")\n",
    "f1, clf, vectorizer, pred, xtrain, xtest, ytrain, ytest = train_and_test(feature='tfidf', classifier='mlp')\n",
    "print(f\"Training done. F1 on test set is {f1}\")\n",
    "\n",
    "input_sentiment = \" \".join(word_tokenize(input_sentiment))\n",
    "sent = clf.predict(vectorizer.transform([input_sentiment]).toarray())\n",
    "print(f\"\\nSentiment on the input text is {sent}\")"
   ]
  },
  {
   "cell_type": "code",
   "execution_count": 17,
   "metadata": {},
   "outputs": [
    {
     "name": "stdout",
     "output_type": "stream",
     "text": [
      "              precision    recall  f1-score   support\n",
      "\n",
      "    negative       0.72      0.76      0.74       689\n",
      "     neutral       0.76      0.60      0.67       236\n",
      "    positive       0.86      0.87      0.87      1262\n",
      "\n",
      "    accuracy                           0.81      2187\n",
      "   macro avg       0.78      0.74      0.76      2187\n",
      "weighted avg       0.81      0.81      0.81      2187\n",
      "\n"
     ]
    }
   ],
   "source": [
    "print(classification_report(ytest,pred))"
   ]
  },
  {
   "cell_type": "code",
   "execution_count": 18,
   "metadata": {},
   "outputs": [
    {
     "data": {
      "text/plain": [
       "['vectorizer.pkl']"
      ]
     },
     "execution_count": 18,
     "metadata": {},
     "output_type": "execute_result"
    }
   ],
   "source": [
    "joblib.dump(f1,'score.pkl')\n",
    "joblib.dump(clf,'model.pkl')\n",
    "joblib.dump(vectorizer,'vectorizer.pkl')"
   ]
  },
  {
   "cell_type": "code",
   "execution_count": 19,
   "metadata": {},
   "outputs": [
    {
     "data": {
      "image/png": "[encoded data removed]",
      "text/plain": [
       "<Figure size 1000x700 with 2 Axes>"
      ]
     },
     "metadata": {},
     "output_type": "display_data"
    }
   ],
   "source": [
    "def plot_confusion_matrix(ytest,pred):\n",
    "    conf_mat = pd.DataFrame(confusion_matrix(ytest, pred))\n",
    "    fig = plt.figure(figsize=(10,7))\n",
    "    sns.heatmap(conf_mat, annot=True, annot_kws={'size':16}, fmt='g')\n",
    "    plt.title('Confusion Matrix')\n",
    "    plt.xlabel('Predicted Label')\n",
    "    plt.ylabel('True Label')\n",
    "    plt.show()\n",
    "\n",
    "plot_confusion_matrix(ytest, pred)"
   ]
  },
  {
   "cell_type": "code",
   "execution_count": 21,
   "metadata": {},
   "outputs": [
    {
     "name": "stdout",
     "output_type": "stream",
     "text": [
      "Training no:  1\n",
      "              precision    recall  f1-score   support\n",
      "\n",
      "    negative       0.72      0.77      0.75       690\n",
      "     neutral       0.78      0.55      0.64       220\n",
      "    positive       0.86      0.87      0.87      1277\n",
      "\n",
      "    accuracy                           0.81      2187\n",
      "   macro avg       0.79      0.73      0.75      2187\n",
      "weighted avg       0.81      0.81      0.81      2187\n",
      "\n",
      "======================================================\n",
      "Training no:  2\n",
      "              precision    recall  f1-score   support\n",
      "\n",
      "    negative       0.71      0.74      0.72       667\n",
      "     neutral       0.78      0.57      0.66       219\n",
      "    positive       0.86      0.88      0.87      1301\n",
      "\n",
      "    accuracy                           0.81      2187\n",
      "   macro avg       0.78      0.73      0.75      2187\n",
      "weighted avg       0.81      0.81      0.80      2187\n",
      "\n",
      "======================================================\n",
      "Training no:  3\n",
      "              precision    recall  f1-score   support\n",
      "\n",
      "    negative       0.75      0.73      0.74       695\n",
      "     neutral       0.79      0.61      0.69       213\n",
      "    positive       0.85      0.89      0.87      1279\n",
      "\n",
      "    accuracy                           0.81      2187\n",
      "   macro avg       0.79      0.74      0.77      2187\n",
      "weighted avg       0.81      0.81      0.81      2187\n",
      "\n",
      "======================================================\n",
      "Training no:  4\n",
      "              precision    recall  f1-score   support\n",
      "\n",
      "    negative       0.69      0.73      0.71       705\n",
      "     neutral       0.78      0.53      0.63       234\n",
      "    positive       0.84      0.87      0.85      1247\n",
      "\n",
      "    accuracy                           0.79      2186\n",
      "   macro avg       0.77      0.71      0.73      2186\n",
      "weighted avg       0.79      0.79      0.78      2186\n",
      "\n",
      "======================================================\n",
      "Training no:  5\n",
      "              precision    recall  f1-score   support\n",
      "\n",
      "    negative       0.67      0.70      0.68       655\n",
      "     neutral       0.74      0.49      0.59       252\n",
      "    positive       0.83      0.86      0.85      1279\n",
      "\n",
      "    accuracy                           0.77      2186\n",
      "   macro avg       0.75      0.69      0.71      2186\n",
      "weighted avg       0.77      0.77      0.77      2186\n",
      "\n",
      "======================================================\n",
      "\n",
      "\n",
      "\n",
      "Average Accuracy:  0.7972162713129358\n"
     ]
    }
   ],
   "source": [
    "kf = KFold(n_splits=5, random_state=42, shuffle=True)\n",
    "accuracies = []\n",
    "vectorizer.fit(df.iloc[:,0])\n",
    "x = vectorizer.transform(df.iloc[:,0])\n",
    "y = labels.values\n",
    "\n",
    "for iteration, datas in enumerate(kf.split(x), start=1):\n",
    "    data_train = x[datas[0]]\n",
    "    target_train = y[datas[0]]\n",
    "    \n",
    "    data_test = x[datas[1]]\n",
    "    target_test = y[datas[1]]\n",
    "    \n",
    "    clf = MLPClassifier()\n",
    "    clf.fit(data_train, target_train)\n",
    "    preds = clf.predict(data_test)\n",
    "    accuracy = accuracy_score(target_test, preds)\n",
    "    \n",
    "    print('Training no: ', iteration)\n",
    "    print(classification_report(target_test, preds))\n",
    "    print(\"======================================================\")\n",
    "    \n",
    "    accuracies.append(accuracy)\n",
    "\n",
    "average_accuracy = np.mean(accuracies)\n",
    "\n",
    "print()\n",
    "print()\n",
    "print()\n",
    "print('Average Accuracy: ', average_accuracy)"
   ]
  },
  {
   "cell_type": "code",
   "execution_count": null,
   "metadata": {},
   "outputs": [],
   "source": []
  }
 ],
 "metadata": {
  "kernelspec": {
   "display_name": "Python 3",
   "language": "python",
   "name": "python3"
  },
  "language_info": {
   "codemirror_mode": {
    "name": "ipython",
    "version": 3
   },
   "file_extension": ".py",
   "mimetype": "text/x-python",
   "name": "python",
   "nbconvert_exporter": "python",
   "pygments_lexer": "ipython3",
   "version": "3.8.5"
  }
 },
 "nbformat": 4,
 "nbformat_minor": 4
}
